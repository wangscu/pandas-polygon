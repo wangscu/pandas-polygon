{
 "cells": [
  {
   "cell_type": "markdown",
   "metadata": {},
   "source": [
    "# Ray start/stop"
   ]
  },
  {
   "cell_type": "code",
   "execution_count": null,
   "metadata": {},
   "outputs": [],
   "source": [
    "ray.init(ignore_reinit_error=True)"
   ]
  },
  {
   "cell_type": "code",
   "execution_count": null,
   "metadata": {},
   "outputs": [],
   "source": [
    "import ray\n",
    "ray.shutdown()"
   ]
  },
  {
   "cell_type": "markdown",
   "metadata": {},
   "source": [
    "# Imports"
   ]
  },
  {
   "cell_type": "code",
   "execution_count": 1,
   "metadata": {
    "ExecuteTime": {
     "end_time": "2020-09-30T01:17:28.615776Z",
     "start_time": "2020-09-30T01:17:28.454787Z"
    },
    "execution": {
     "iopub.execute_input": "2021-02-06T03:03:07.841523Z",
     "iopub.status.busy": "2021-02-06T03:03:07.840584Z",
     "iopub.status.idle": "2021-02-06T03:03:12.717454Z",
     "shell.execute_reply": "2021-02-06T03:03:12.715744Z",
     "shell.execute_reply.started": "2021-02-06T03:03:07.841340Z"
    }
   },
   "outputs": [],
   "source": [
    "%load_ext autoreload\n",
    "%autoreload 2\n",
    "\n",
    "import datetime as dt\n",
    "import numpy as np\n",
    "import pandas as pd\n",
    "pd.set_option('float_format', '{:f}'.format)\n",
    "pd.set_option('display.max_rows', 70)\n",
    "pd.set_option('display.max_columns', 99)\n",
    "import pandas_bokeh\n",
    "pandas_bokeh.output_file(\"data/bokeh_output.html\")\n",
    "\n",
    "import polygon_df as pdf\n",
    "import polygon_ds as pds\n",
    "import polygon_s3 as ps3\n",
    "import bar_samples as bs\n",
    "import bar_labels as bl\n",
    "import bar_meta as bm\n",
    "import utils_filters as ft\n",
    "from utils_pickle import pickle_dump, pickle_load\n",
    "\n",
    "import matplotlib.pyplot as plt\n",
    "import matplotlib as mpl\n",
    "from matplotlib import style\n",
    "style.use('fivethirtyeight')\n",
    "mpl.rcParams['figure.figsize'] = [20, 7]\n",
    "\n",
    "# import pdb; pdb.set_trace()\n",
    "# import pudb; pudb.set_trace()\n",
    "\n",
    "# df.style.background_gradient(cmap='coolwarm', axis=None, vmin=-1, vmax=1)  # 'Blues', 'coolwarm', 'RdBu_r' & 'BrBG'\n",
    "# pd.set_option('precision', 2)\n",
    "# .plot_bokeh(sizing_mode=\"scale_height\")"
   ]
  },
  {
   "cell_type": "markdown",
   "metadata": {
    "execution": {
     "iopub.execute_input": "2021-01-06T05:21:59.623326Z",
     "iopub.status.busy": "2021-01-06T05:21:59.622898Z",
     "iopub.status.idle": "2021-01-06T05:21:59.777553Z",
     "shell.execute_reply": "2021-01-06T05:21:59.776253Z",
     "shell.execute_reply.started": "2021-01-06T05:21:59.623288Z"
    }
   },
   "source": [
    "# Sample tick dates"
   ]
  },
  {
   "cell_type": "code",
   "execution_count": 2,
   "metadata": {
    "execution": {
     "iopub.execute_input": "2021-02-06T03:03:12.720481Z",
     "iopub.status.busy": "2021-02-06T03:03:12.719828Z",
     "iopub.status.idle": "2021-02-06T03:03:12.821531Z",
     "shell.execute_reply": "2021-02-06T03:03:12.819779Z",
     "shell.execute_reply.started": "2021-02-06T03:03:12.720421Z"
    }
   },
   "outputs": [],
   "source": [
    "# set sampling params\n",
    "symbol = 'VTI'\n",
    "start_date = '2020-04-20'\n",
    "end_date = '2020-04-25'\n",
    "\n",
    "thresh = {\n",
    "    # mad filter\n",
    "    'mad_value_winlen': 11,\n",
    "    'mad_k': 22,    \n",
    "    'mad_deviation_winlen': 333,     \n",
    "    # jma filter\n",
    "    'jma_winlen': 7,\n",
    "    'jma_power': 2,\n",
    "    # bar thresholds\n",
    "    'renko_return': 'jma_return',\n",
    "    'renko_size': 0.11,\n",
    "    'renko_reveral_multiple': 2,\n",
    "    'renko_range_frac': 22,\n",
    "    'max_duration_td': dt.timedelta(minutes=33),\n",
    "    'min_duration_td': dt.timedelta(seconds=33),\n",
    "    'min_tick_count': 33,\n",
    "    # label params\n",
    "    'label_reward_ratios': list(np.arange(2.5, 11, 0.5)),\n",
    "}"
   ]
  },
  {
   "cell_type": "code",
   "execution_count": null,
   "metadata": {},
   "outputs": [],
   "source": [
    "# bar workflow\n",
    "\n",
    "date = '2020-04-17'\n",
    "\n",
    "# import ipdb; ipdb.set_trace()  # breakpoint\n",
    "bar_date = bm.bar_workflow(symbol, date, thresh, add_label=True)"
   ]
  },
  {
   "cell_type": "code",
   "execution_count": null,
   "metadata": {},
   "outputs": [],
   "source": [
    "bar_date['date']\n",
    "\n",
    "tdf = bar_date['ticks_df']\n",
    "bdf = pd.DataFrame(bar_date['bars'])\n",
    "# lbdf = pd.DataFrame(bar_date['labeled_bars'])\n",
    "\n",
    "tdf[tdf.status.str.startswith('clean_open')].plot(x='utc_dt', y='jma')\n",
    "# tdf[tdf.status.str.startswith('clean_open')].plot(y='jma')\n",
    "\n",
    "bdf.plot(x='close_at', y='jma_close')\n",
    "# bdf.plot(y='jma_close')"
   ]
  },
  {
   "cell_type": "code",
   "execution_count": null,
   "metadata": {},
   "outputs": [],
   "source": [
    "bdf.duplicated().sum() / bdf.shape[0]"
   ]
  },
  {
   "cell_type": "code",
   "execution_count": null,
   "metadata": {},
   "outputs": [],
   "source": [
    "abs(bdf.label_rrr).value_counts() / bdf.shape[0]"
   ]
  },
  {
   "cell_type": "code",
   "execution_count": null,
   "metadata": {},
   "outputs": [],
   "source": [
    "tdf.loc[:, 'epoch_sec'] = tdf.utc_dt.astype('int64') // 10**9\n",
    "\n",
    "tdf.groupby('epoch_sec').count().price.describe(percentiles=[.8,.9,.99])\n",
    "# bar_date['ticks_df'].groupby('epoch_sec').count().price.mean()"
   ]
  },
  {
   "cell_type": "code",
   "execution_count": null,
   "metadata": {
    "execution": {
     "iopub.execute_input": "2021-02-06T03:03:13.478568Z",
     "iopub.status.busy": "2021-02-06T03:03:13.478104Z"
    }
   },
   "outputs": [
    {
     "name": "stderr",
     "output_type": "stream",
     "text": [
      "2021-02-05 19:03:15,738\tINFO services.py:1171 -- View the Ray dashboard at \u001b[1m\u001b[32mhttp://127.0.0.1:1111\u001b[39m\u001b[22m\n"
     ]
    },
    {
     "name": "stdout",
     "output_type": "stream",
     "text": [
      "\u001b[2m\u001b[36m(pid=31927)\u001b[0m VTI 2020-04-24 trying to get data from local file...\n",
      "\u001b[2m\u001b[36m(pid=31930)\u001b[0m VTI 2020-04-22 trying to get data from local file...\n",
      "\u001b[2m\u001b[36m(pid=31928)\u001b[0m VTI 2020-04-23 trying to get data from local file...\n"
     ]
    }
   ],
   "source": [
    "# bar dates workflow\n",
    "\n",
    "bar_dates = bm.bar_dates_workflow(symbol, start_date, end_date, thresh, add_label=True, ray_on=True)\n",
    "\n",
    "# fetch and build bars\n",
    "\n",
    "# tdf = ps3.fetch_date_df(symbol, date='2020-04-02', tick_type='trades')\n",
    "# bars, tdf = bm.build_bars(ticks_df, thresh)\n",
    "# bdf = pd.DataFrame(bars)"
   ]
  },
  {
   "cell_type": "code",
   "execution_count": null,
   "metadata": {},
   "outputs": [],
   "source": [
    "n = 0\n",
    "tdf = bar_dates[n]['ticks_df']\n",
    "bdf = pd.DataFrame(bar_dates[n]['bars'])\n",
    "print(bar_dates[n]['date'])\n",
    "\n",
    "# bdf.plot(y='jma_close')\n",
    "bdf.set_index('close_at').tz_localize('UTC').tz_convert('America/New_York').plot(y='jma_wq50')\n",
    "\n",
    "tdf[tdf.status.str.startswith('clean_open')].plot(x='nyc_dt', y='jma')"
   ]
  },
  {
   "cell_type": "code",
   "execution_count": null,
   "metadata": {},
   "outputs": [],
   "source": [
    "# fill daily gaps\n",
    "stacked_df = bm.fill_gaps_dates(bar_dates, fill_col='jma_wmean')\n",
    "\n",
    "# stacked stats\n",
    "stats_df = bm.stacked_df_stats(stacked_df)\n",
    "stats_df.describe()\n",
    "\n",
    "stacked_df[['jma_high','jma_low', 'jma_wmean']].plot_bokeh(sizing_mode=\"scale_height\")"
   ]
  },
  {
   "cell_type": "code",
   "execution_count": null,
   "metadata": {},
   "outputs": [],
   "source": [
    "results = []\n",
    "\n",
    "for date in bar_dates:\n",
    "    out = (date['ft_ticks_df'].status.value_counts() / date['ft_ticks_df'].shape[0]).to_dict()\n",
    "    out.update({'date': date['date']})\n",
    "    results.append(out)\n",
    "\n",
    "pd.DataFrame(results)"
   ]
  },
  {
   "cell_type": "code",
   "execution_count": null,
   "metadata": {},
   "outputs": [],
   "source": [
    "# rw, outlier_ind = ft.random_walk_with_outliers(0, 1000, 0.01)\n",
    "# plt.plot(np.arange(len(rw)), rw)\n",
    "# plt.scatter(outlier_ind, rw[outlier_ind], c='r', label='outlier')\n",
    "# plt.title('Random Walk with outliers')\n",
    "# plt.xlabel('Time steps')\n",
    "# plt.ylabel('Values')\n",
    "# plt.legend();\n",
    "\n",
    "from bokeh.plotting import figure, output_file, show, output_notebook\n",
    "# output_notebook()\n",
    "\n",
    "TOOLS = \"pan,wheel_zoom,box_zoom,reset,save,box_select\"\n",
    "\n",
    "p1 = figure(title=\"Legend Example\", tools=TOOLS)\n",
    "p1.line(df.index, df.price)\n",
    "p1.circle(df[df.mad_outlier==True].index, df[df.mad_outlier==True].price, legend_label=\"outlier\", color=\"orange\")\n",
    "\n",
    "# output_file(\"legend.html\", title=\"legend.py example\")\n",
    "show(p1, sizing_mode=\"scale_height\")  # open a browser\n"
   ]
  }
 ],
 "metadata": {
  "kernelspec": {
   "display_name": "Python 3",
   "language": "python",
   "name": "python3"
  },
  "language_info": {
   "codemirror_mode": {
    "name": "ipython",
    "version": 3
   },
   "file_extension": ".py",
   "mimetype": "text/x-python",
   "name": "python",
   "nbconvert_exporter": "python",
   "pygments_lexer": "ipython3",
   "version": "3.8.6"
  },
  "toc-autonumbering": true,
  "toc-showcode": false,
  "toc-showmarkdowntxt": false,
  "toc-showtags": false,
  "varInspector": {
   "cols": {
    "lenName": 16,
    "lenType": 16,
    "lenVar": 40
   },
   "kernels_config": {
    "python": {
     "delete_cmd_postfix": "",
     "delete_cmd_prefix": "del ",
     "library": "var_list.py",
     "varRefreshCmd": "print(var_dic_list())"
    },
    "r": {
     "delete_cmd_postfix": ") ",
     "delete_cmd_prefix": "rm(",
     "library": "var_list.r",
     "varRefreshCmd": "cat(var_dic_list()) "
    }
   },
   "types_to_exclude": [
    "module",
    "function",
    "builtin_function_or_method",
    "instance",
    "_Feature"
   ],
   "window_display": false
  }
 },
 "nbformat": 4,
 "nbformat_minor": 4
}
